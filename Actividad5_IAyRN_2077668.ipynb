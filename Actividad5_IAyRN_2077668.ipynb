{
  "nbformat": 4,
  "nbformat_minor": 0,
  "metadata": {
    "colab": {
      "provenance": [],
      "collapsed_sections": [
        "STxGzGEWe7IW"
      ],
      "authorship_tag": "ABX9TyNV/CrNv8E6dADegu3kPzvs",
      "include_colab_link": true
    },
    "kernelspec": {
      "name": "python3",
      "display_name": "Python 3"
    },
    "language_info": {
      "name": "python"
    }
  },
  "cells": [
    {
      "cell_type": "markdown",
      "metadata": {
        "id": "view-in-github",
        "colab_type": "text"
      },
      "source": [
        "<a href=\"https://colab.research.google.com/github/lasa002/IAyRN_AgoDic_2024/blob/main/Actividad5_IAyRN_2077668.ipynb\" target=\"_parent\"><img src=\"https://colab.research.google.com/assets/colab-badge.svg\" alt=\"Open In Colab\"/></a>"
      ]
    },
    {
      "cell_type": "markdown",
      "source": [
        "Luis Alberto Sánchez Álvarez\n",
        "\n",
        "Actividad #5\n",
        "\n",
        "Diseño de algoritmos en phyton"
      ],
      "metadata": {
        "id": "SfRTl5iOZry_"
      }
    },
    {
      "cell_type": "markdown",
      "source": [
        "1.- Desarrolla un algoritmo que le pida al usuario por su nombre y que lo salude con su nombre, excepto si se llama “Ana”, “Juan”, y “Pedro”**"
      ],
      "metadata": {
        "id": "qMUiFTqae037"
      }
    },
    {
      "cell_type": "code",
      "execution_count": null,
      "metadata": {
        "colab": {
          "base_uri": "https://localhost:8080/"
        },
        "id": "5BiB-9zIZC-M",
        "outputId": "8e405d2f-6986-4b51-99ac-c5d7d00c7fff"
      },
      "outputs": [
        {
          "output_type": "stream",
          "name": "stdout",
          "text": [
            "Hola, como te llamas? Luis\n",
            "Hola Luis este es mi pimer actividad en phyton, espero te encuentres bien\n"
          ]
        }
      ],
      "source": [
        "nombre = input(\"Hola, como te llamas? \")\n",
        "nombre=nombre.lower()\n",
        "nombresno=(\"ana\", \"juan\", \"pedro\")\n",
        "\n",
        "if nombre in nombresno:\n",
        "  print(\"Lo siento, no eres bienvenido\")\n",
        "else:\n",
        "  print(\"Hola\", nombre.capitalize(), \"este es mi pimer actividad en phyton, espero te encuentres bien\")\n",
        "\n"
      ]
    },
    {
      "cell_type": "markdown",
      "source": [],
      "metadata": {
        "id": "hTuQ85rbfZiI"
      }
    },
    {
      "cell_type": "markdown",
      "source": [
        "2.-Desarrolla un algoritmo que por medio de una función, le pida al usuario una lista de N elementos y como resultado invierta el sentido de la lista."
      ],
      "metadata": {
        "id": "STxGzGEWe7IW"
      }
    },
    {
      "cell_type": "code",
      "source": [
        "def invertir_lista(lista):\n",
        "    lista_invertida = lista[::-1]\n",
        "    return lista_invertida\n",
        "\n",
        "def solicita_lista():\n",
        "    lis=int(input(\"¿De cuanto es la lista que deseas tener?\"))\n",
        "\n",
        "    lista = []\n",
        "\n",
        "    for i in range(lis):\n",
        "      ele = input(\"Ingresa el elemento\" + str(i + 1) + \": \")\n",
        "      lista.append(ele)\n",
        "\n",
        "    return lista\n",
        "\n",
        "lista_original = solicita_lista()\n",
        "lista_invertida = invertir_lista(lista_original)\n",
        "\n",
        "print(\"Lista original:\", lista_original)\n",
        "print(\"Lista invertida:\", lista_invertida)\n",
        "\n",
        "\n",
        "\n"
      ],
      "metadata": {
        "colab": {
          "base_uri": "https://localhost:8080/"
        },
        "id": "obRKTRUxfgk1",
        "outputId": "ee122d56-35d6-40fb-e185-656cd3b5a67f"
      },
      "execution_count": null,
      "outputs": [
        {
          "output_type": "stream",
          "name": "stdout",
          "text": [
            "¿De cuanto es la lista que deseas tener?6\n",
            "Ingresa el elemento1: 1\n",
            "Ingresa el elemento2: 2\n",
            "Ingresa el elemento3: 3\n",
            "Ingresa el elemento4: 4\n",
            "Ingresa el elemento5: 5\n",
            "Ingresa el elemento6: 6\n",
            "Lista original: ['1', '2', '3', '4', '5', '6']\n",
            "Lista invertida: ['6', '5', '4', '3', '2', '1']\n"
          ]
        }
      ]
    },
    {
      "cell_type": "markdown",
      "source": [
        "3.-Desarrolla un algoritmo que le pregunte al usuario cuántos números de la serie de Fibonacci quiere generar y que al final los imprima."
      ],
      "metadata": {
        "id": "JAnrS-ufh1uA"
      }
    },
    {
      "cell_type": "code",
      "source": [
        "def fibonacci(n):\n",
        "    fibo = [0, 1]\n",
        "\n",
        "    for i in range(2, n):\n",
        "        sig_num = fibo[-1] + fibo[-2]\n",
        "        fibo.append(sig_num)\n",
        "\n",
        "    return fibo[:n]\n",
        "\n",
        "numeros = int(input(\"¿Cuántos números de la serie de Fibonacci quieres generar? \"))\n",
        "\n",
        "fibi = fibonacci(numeros)\n",
        "\n",
        "print(f\"Los primeros {numeros} números de la serie de Fibonacci son: {fibi}\")"
      ],
      "metadata": {
        "colab": {
          "base_uri": "https://localhost:8080/"
        },
        "id": "-M_iO5BGjpZd",
        "outputId": "a0b163cb-2d94-4ee0-ceab-884e3c7bd7bc"
      },
      "execution_count": null,
      "outputs": [
        {
          "output_type": "stream",
          "name": "stdout",
          "text": [
            "¿Cuántos números de la serie de Fibonacci quieres generar? 15\n",
            "Los primeros 15 números de la serie de Fibonacci son: [0, 1, 1, 2, 3, 5, 8, 13, 21, 34, 55, 89, 144, 233, 377]\n"
          ]
        }
      ]
    },
    {
      "cell_type": "markdown",
      "source": [
        "4.- Juego de adivinar el número: Crea un programa que genere un número aleatorio entre 1 y 100, y luego le pida al usuario que adivine el número. El programa debe proporcionar pistas al usuario si el número es mayor o menor que el número objetivo, y seguir solicitando un nuevo intento hasta que el usuario adivine correctamente."
      ],
      "metadata": {
        "id": "8EmUbVTpknst"
      }
    },
    {
      "cell_type": "code",
      "source": [
        "import random\n",
        "\n",
        "def num_random():\n",
        "\n",
        "    numero = random.randint(1, 100)\n",
        "\n",
        "    intento = None\n",
        "\n",
        "    print(\"Estoy pensando en un numero del 1 al 100, ¿Crees poder adivinar cual es?\")\n",
        "\n",
        "    while intento != numero:\n",
        "\n",
        "        intento = int(input(\"Puedes probar suerte con el: \"))\n",
        "\n",
        "        if intento < numero:\n",
        "            print(\"Casi lo aciertas, prueba con uno mas alto\")\n",
        "        elif intento > numero:\n",
        "            print(\"Tampoco es tan alto, prueba con otro\")\n",
        "        else:\n",
        "            print(f\"Lo logaste, el número era el {numero}, tampoco era tan dificil, deberiamos intentarlo de nuevo\")\n",
        "            break\n",
        "\n",
        "\n",
        "num_random()\n"
      ],
      "metadata": {
        "colab": {
          "base_uri": "https://localhost:8080/"
        },
        "id": "W6BgIJbalVG6",
        "outputId": "29306824-97cc-4652-93d3-05a82fbd43f7"
      },
      "execution_count": null,
      "outputs": [
        {
          "output_type": "stream",
          "name": "stdout",
          "text": [
            "Estoy pensando en un numero del 1 al 100, ¿Crees poder adivinar cual es?\n",
            "Puedes probar suerte con el: 5\n",
            "Casi lo aciertas, prueba con uno mas alto\n",
            "Puedes probar suerte con el: 85\n",
            "Tampoco es tan alto, prueba con otro\n",
            "Puedes probar suerte con el: 50\n",
            "Casi lo aciertas, prueba con uno mas alto\n",
            "Puedes probar suerte con el: 60\n",
            "Casi lo aciertas, prueba con uno mas alto\n",
            "Puedes probar suerte con el: 70\n",
            "Tampoco es tan alto, prueba con otro\n",
            "Puedes probar suerte con el: 66\n",
            "Tampoco es tan alto, prueba con otro\n",
            "Puedes probar suerte con el: 63\n",
            "Lo logaste, el número era el 63, tampoco era tan dificil, deberiamos intentarlo de nuevo\n"
          ]
        }
      ]
    },
    {
      "cell_type": "markdown",
      "source": [
        "5.- Ejercicio de cálculo de números primos en un rango dado: Escribe un programa que solicite al usuario un rango de números y muestre todos los números primos dentro de ese rango."
      ],
      "metadata": {
        "id": "Kqj3Xg8qm5Zw"
      }
    },
    {
      "cell_type": "code",
      "source": [
        "def un_primo(num):\n",
        "    if num < 2:\n",
        "        return False\n",
        "    for i in range(2, int(num**0.5) + 1):\n",
        "        if num % i == 0:\n",
        "            return False\n",
        "    return True\n",
        "\n",
        "def imprimir_primos(inicio, fin):\n",
        "    for num in range(inicio, fin + 1):\n",
        "        if un_primo(num):\n",
        "            print(num, end=\" \")\n",
        "\n",
        "inicio = int(input(\"Introduce el número inicial del rango: \"))\n",
        "fin = int(input(\"Introduce el número final del rango: \"))\n",
        "\n",
        "print(f\"Los números primos entre {inicio} y {fin} son:\")\n",
        "imprimir_primos(inicio, fin)\n"
      ],
      "metadata": {
        "colab": {
          "base_uri": "https://localhost:8080/"
        },
        "id": "OIsQsBdEnvsv",
        "outputId": "c4f0a934-175c-439f-db28-e44f60885a22"
      },
      "execution_count": null,
      "outputs": [
        {
          "output_type": "stream",
          "name": "stdout",
          "text": [
            "Introduce el número inicial del rango: 0\n",
            "Introduce el número final del rango: 151\n",
            "Los números primos entre 0 y 151 son:\n",
            "2 3 5 7 11 13 17 19 23 29 31 37 41 43 47 53 59 61 67 71 73 79 83 89 97 101 103 107 109 113 127 131 137 139 149 151 "
          ]
        }
      ]
    },
    {
      "cell_type": "markdown",
      "source": [
        "6.- Ejercicio de implementación de una calculadora básica utilizando funciones: Escribe un programa que solicite al usuario dos números y realice operaciones básicas como suma, resta, multiplicación y división utilizando funciones separadas para cada operación"
      ],
      "metadata": {
        "id": "qIJd_6dcoowP"
      }
    },
    {
      "cell_type": "code",
      "source": [
        "def sumar(x, y):\n",
        "    return x + y\n",
        "\n",
        "def restar(x, y):\n",
        "    return x - y\n",
        "\n",
        "def multiplicar(x, y):\n",
        "    return x * y\n",
        "\n",
        "def dividir(x, y):\n",
        "    if y == 0:\n",
        "        return \"Una división entre 0 es indeterminada\"\n",
        "    return x / y\n",
        "\n",
        "def calculadora():\n",
        "    print(\"Que operación quieres hacer\")\n",
        "    print(\"Sumar\")\n",
        "    print(\"Restar\")\n",
        "    print(\"Multiplicar\")\n",
        "    print(\"Dividir\")\n",
        "\n",
        "    operacion = input(\"Elige una operación (Sumar/Restar/Multiplicar/Dividir): \")\n",
        "\n",
        "    numero1 = float(input(\"Introduce el primer número: \"))\n",
        "    numero2 = float(input(\"Introduce el segundo número: \"))\n",
        "\n",
        "    if operacion == 'Sumar':\n",
        "        print(f\"La suma de {numero1} y {numero2} es: {sumar(numero1, numero2)}\")\n",
        "    elif operacion == 'Restar':\n",
        "        print(f\"La resta de {numero1} y {numero2} es: {restar(numero1, numero2)}\")\n",
        "    elif operacion == 'Multiplicar':\n",
        "        print(f\"La multiplicación de {numero1} y {numero2} es: {multiplicar(numero1, numero2)}\")\n",
        "    elif operacion == 'Dividir':\n",
        "        print(f\"La división de {numero1} y {numero2} es: {dividir(numero1, numero2)}\")\n",
        "    else:\n",
        "        print(\"Operación no válida\")\n",
        "\n",
        "calculadora()\n"
      ],
      "metadata": {
        "colab": {
          "base_uri": "https://localhost:8080/"
        },
        "id": "59zBsGAKoL21",
        "outputId": "d230342b-b101-4e29-c5f5-5e91fb1deade"
      },
      "execution_count": null,
      "outputs": [
        {
          "output_type": "stream",
          "name": "stdout",
          "text": [
            "Que operación quieres hacer\n",
            "Sumar\n",
            "Restar\n",
            "Multiplicar\n",
            "Dividir\n",
            "Elige una operación (Sumar/Restar/Multiplicar/Dividir): Multiplicar\n",
            "Introduce el primer número: 54.2\n",
            "Introduce el segundo número: 12.4\n",
            "La multiplicación de 54.2 y 12.4 es: 672.08\n"
          ]
        }
      ]
    }
  ]
}